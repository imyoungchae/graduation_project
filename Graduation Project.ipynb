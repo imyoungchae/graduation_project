{
 "cells": [
  {
   "cell_type": "code",
   "execution_count": 1,
   "id": "bac3a49c",
   "metadata": {},
   "outputs": [],
   "source": [
    "import cv2\n",
    "import mediapipe as mp\n",
    "import numpy as np\n",
    "import pandas as pd\n",
    "\n",
    "mp_drawing = mp.solutions.drawing_utils\n",
    "mp_pose = mp.solutions.pose"
   ]
  },
  {
   "cell_type": "code",
   "execution_count": 2,
   "id": "cc883bbc",
   "metadata": {},
   "outputs": [],
   "source": [
    "def calculate_angle(a,b,c):\n",
    "    a = np.array(a) # First\n",
    "    b = np.array(b) # Mid\n",
    "    c = np.array(c) # End\n",
    "    \n",
    "    radians = np.arctan2(c[1]-b[1], c[0]-b[0]) - np.arctan2(a[1]-b[1], a[0]-b[0])\n",
    "    angle = np.abs(radians*180.0/np.pi)\n",
    "    \n",
    "    if angle >180.0:\n",
    "        angle = 360-angle\n",
    "        \n",
    "    return angle "
   ]
  },
  {
   "cell_type": "code",
   "execution_count": 4,
   "id": "3707e575",
   "metadata": {},
   "outputs": [
    {
     "name": "stdout",
     "output_type": "stream",
     "text": [
      "17.54\n",
      "18.61\n",
      "19.33\n",
      "19.58\n",
      "19.66\n",
      "20.12\n",
      "19.81\n",
      "19.57\n",
      "19.22\n",
      "19.09\n",
      "18.78\n",
      "18.83\n",
      "18.81\n",
      "18.72\n",
      "18.62\n",
      "18.65\n",
      "18.78\n",
      "18.81\n",
      "18.71\n",
      "18.5\n",
      "17.8\n",
      "17.51\n",
      "17.22\n",
      "17.58\n",
      "19.97\n",
      "22.82\n",
      "45.08\n",
      "55.92\n",
      "59.84\n",
      "160.32\n",
      "159.54\n",
      "151.92\n",
      "158.39\n",
      "157.29\n",
      "176.84\n",
      "176.5\n",
      "173.37\n",
      "139.99\n",
      "119.86\n",
      "128.47\n",
      "126.79\n",
      "118.74\n",
      "76.88\n",
      "25.41\n",
      "9.97\n",
      "48.66\n",
      "75.81\n",
      "128.4\n",
      "129.54\n",
      "121.56\n",
      "44.92\n",
      "33.53\n",
      "31.15\n",
      "34.95\n",
      "38.7\n",
      "61.18\n",
      "144.47\n",
      "134.8\n",
      "132.4\n",
      "129.71\n",
      "128.25\n",
      "126.11\n",
      "124.43\n",
      "119.43\n",
      "111.63\n",
      "111.27\n",
      "108.7\n",
      "106.49\n",
      "104.54\n",
      "101.63\n",
      "98.32\n",
      "96.66\n",
      "95.72\n",
      "93.98\n",
      "92.67\n",
      "91.21\n",
      "90.34\n",
      "89.47\n",
      "87.23\n",
      "83.41\n",
      "81.15\n",
      "78.31\n",
      "75.37\n",
      "72.8\n",
      "69.31\n",
      "66.9\n",
      "65.16\n",
      "64.16\n",
      "62.22\n",
      "60.35\n",
      "58.67\n",
      "57.86\n",
      "57.42\n",
      "58.92\n",
      "59.43\n",
      "59.89\n",
      "61.08\n",
      "63.2\n",
      "66.36\n",
      "70.19\n",
      "72.72\n",
      "75.1\n",
      "77.28\n",
      "80.14\n",
      "82.52\n",
      "87.29\n",
      "94.75\n",
      "103.01\n",
      "122.9\n",
      "160.42\n",
      "166.14\n",
      "155.5\n",
      "137.65\n",
      "32.64\n",
      "24.1\n",
      "33.55\n",
      "35.21\n",
      "41.49\n",
      "69.0\n",
      "73.26\n",
      "110.55\n",
      "116.18\n",
      "123.54\n",
      "123.87\n",
      "117.66\n",
      "113.61\n",
      "115.15\n",
      "103.42\n",
      "94.82\n",
      "174.33\n",
      "142.16\n",
      "164.32\n",
      "163.09\n",
      "157.02\n",
      "127.62\n",
      "97.15\n",
      "90.67\n",
      "84.46\n",
      "79.7\n",
      "75.95\n",
      "75.44\n",
      "74.54\n",
      "74.24\n",
      "73.72\n",
      "72.54\n",
      "71.53\n",
      "68.01\n",
      "66.93\n",
      "66.37\n",
      "63.51\n",
      "60.73\n",
      "58.27\n",
      "54.97\n",
      "51.7\n",
      "47.3\n",
      "46.13\n",
      "44.02\n",
      "43.38\n",
      "42.19\n",
      "43.02\n",
      "44.08\n",
      "43.87\n",
      "43.91\n",
      "43.37\n",
      "30.78\n",
      "28.63\n",
      "28.23\n",
      "27.75\n",
      "27.72\n",
      "27.99\n",
      "28.09\n",
      "33.63\n",
      "30.23\n",
      "28.81\n",
      "28.63\n",
      "28.97\n",
      "29.33\n"
     ]
    }
   ],
   "source": [
    "cap = cv2.VideoCapture(0)\n",
    "## Setup mediapipe instance\n",
    "with mp_pose.Pose(min_detection_confidence=0.5, min_tracking_confidence=0.5) as pose:\n",
    "    while cap.isOpened():\n",
    "        ret, frame = cap.read()\n",
    "        str2=\"Romote Control Robotic Arm\"\n",
    "        cv2.putText(frame, str2, (80, 40), cv2.FONT_HERSHEY_COMPLEX,1, (0, 0, 255))\n",
    "        # Recolor image to RGB\n",
    "        image = cv2.cvtColor(frame, cv2.COLOR_BGR2RGB)\n",
    "        image.flags.writeable = False\n",
    "      \n",
    "        # Make detection\n",
    "        results = pose.process(image)\n",
    "    \n",
    "        # Recolor back to BGR\n",
    "        image.flags.writeable = True\n",
    "        image = cv2.cvtColor(image, cv2.COLOR_RGB2BGR)\n",
    "        \n",
    "        # Extract landmarks\n",
    "        try:\n",
    "            landmarks = results.pose_landmarks.landmark\n",
    "            \n",
    "            # Get coordinates\n",
    "            shoulder = [landmarks[mp_pose.PoseLandmark.LEFT_SHOULDER.value].x,landmarks[mp_pose.PoseLandmark.LEFT_SHOULDER.value].y]\n",
    "            elbow = [landmarks[mp_pose.PoseLandmark.LEFT_ELBOW.value].x,landmarks[mp_pose.PoseLandmark.LEFT_ELBOW.value].y]\n",
    "            wrist = [landmarks[mp_pose.PoseLandmark.LEFT_WRIST.value].x,landmarks[mp_pose.PoseLandmark.LEFT_WRIST.value].y]\n",
    "            \n",
    "            # Calculate angle\n",
    "            angle = calculate_angle(shoulder, elbow, wrist)\n",
    "            round_angle=round(angle,2)\n",
    "            print(round_angle)\n",
    "          \n",
    "            # Visualize angle\n",
    "            cv2.putText(image, str(round_angle), \n",
    "                           tuple(np.multiply(elbow, [640, 480]).astype(int)), \n",
    "                           cv2.FONT_HERSHEY_SIMPLEX, 0.5, (255, 255, 255), 2, cv2.LINE_AA\n",
    "                                )\n",
    "            \n",
    "           \n",
    "\n",
    "        except:\n",
    "            pass\n",
    "        \n",
    "        \n",
    "        # Render detections\n",
    "        mp_drawing.draw_landmarks(image, results.pose_landmarks, mp_pose.POSE_CONNECTIONS,\n",
    "                                mp_drawing.DrawingSpec(color=(245,117,66), thickness=2, circle_radius=2), \n",
    "                                mp_drawing.DrawingSpec(color=(245,66,230), thickness=2, circle_radius=2) \n",
    "                                 )               \n",
    "        \n",
    "        cv2.imshow('Mecha Graduation Project', image)\n",
    "\n",
    "        if cv2.waitKey(10) & 0xFF == ord('q'):\n",
    "            break\n",
    "\n",
    "    cap.release()\n",
    "    cv2.destroyAllWindows()\n"
   ]
  },
  {
   "cell_type": "code",
   "execution_count": 7,
   "id": "11a01551",
   "metadata": {},
   "outputs": [
    {
     "name": "stdout",
     "output_type": "stream",
     "text": [
      "PoseLandmark.NOSE\n",
      "PoseLandmark.LEFT_EYE_INNER\n",
      "PoseLandmark.LEFT_EYE\n",
      "PoseLandmark.LEFT_EYE_OUTER\n",
      "PoseLandmark.RIGHT_EYE_INNER\n",
      "PoseLandmark.RIGHT_EYE\n",
      "PoseLandmark.RIGHT_EYE_OUTER\n",
      "PoseLandmark.LEFT_EAR\n",
      "PoseLandmark.RIGHT_EAR\n",
      "PoseLandmark.MOUTH_LEFT\n",
      "PoseLandmark.MOUTH_RIGHT\n",
      "PoseLandmark.LEFT_SHOULDER\n",
      "PoseLandmark.RIGHT_SHOULDER\n",
      "PoseLandmark.LEFT_ELBOW\n",
      "PoseLandmark.RIGHT_ELBOW\n",
      "PoseLandmark.LEFT_WRIST\n",
      "PoseLandmark.RIGHT_WRIST\n",
      "PoseLandmark.LEFT_PINKY\n",
      "PoseLandmark.RIGHT_PINKY\n",
      "PoseLandmark.LEFT_INDEX\n",
      "PoseLandmark.RIGHT_INDEX\n",
      "PoseLandmark.LEFT_THUMB\n",
      "PoseLandmark.RIGHT_THUMB\n",
      "PoseLandmark.LEFT_HIP\n",
      "PoseLandmark.RIGHT_HIP\n",
      "PoseLandmark.LEFT_KNEE\n",
      "PoseLandmark.RIGHT_KNEE\n",
      "PoseLandmark.LEFT_ANKLE\n",
      "PoseLandmark.RIGHT_ANKLE\n",
      "PoseLandmark.LEFT_HEEL\n",
      "PoseLandmark.RIGHT_HEEL\n",
      "PoseLandmark.LEFT_FOOT_INDEX\n",
      "PoseLandmark.RIGHT_FOOT_INDEX\n"
     ]
    }
   ],
   "source": [
    "for lndmrk in mp_pose.PoseLandmark:\n",
    "    print(lndmrk)"
   ]
  },
  {
   "cell_type": "code",
   "execution_count": 8,
   "id": "a6876a58",
   "metadata": {},
   "outputs": [
    {
     "data": {
      "text/plain": [
       "0.9886033535003662"
      ]
     },
     "execution_count": 8,
     "metadata": {},
     "output_type": "execute_result"
    }
   ],
   "source": [
    "landmarks[mp_pose.PoseLandmark.LEFT_SHOULDER.value].visibility"
   ]
  },
  {
   "cell_type": "code",
   "execution_count": 9,
   "id": "8b359a89",
   "metadata": {},
   "outputs": [
    {
     "data": {
      "text/plain": [
       "x: 0.9178467988967896\n",
       "y: 1.4790055751800537\n",
       "z: -0.8824763298034668\n",
       "visibility: 0.06865138560533524"
      ]
     },
     "execution_count": 9,
     "metadata": {},
     "output_type": "execute_result"
    }
   ],
   "source": [
    "landmarks[mp_pose.PoseLandmark.LEFT_WRIST.value]"
   ]
  },
  {
   "cell_type": "code",
   "execution_count": 10,
   "id": "8ec1f331",
   "metadata": {},
   "outputs": [
    {
     "data": {
      "text/plain": [
       "x: 1.0004997253417969\n",
       "y: 1.253674030303955\n",
       "z: -0.5016611814498901\n",
       "visibility: 0.23666276037693024"
      ]
     },
     "execution_count": 10,
     "metadata": {},
     "output_type": "execute_result"
    }
   ],
   "source": [
    "landmarks[mp_pose.PoseLandmark.LEFT_ELBOW.value]"
   ]
  },
  {
   "cell_type": "code",
   "execution_count": 11,
   "id": "0faf5b37",
   "metadata": {},
   "outputs": [
    {
     "data": {
      "text/plain": [
       "155.02375606985282"
      ]
     },
     "execution_count": 11,
     "metadata": {},
     "output_type": "execute_result"
    }
   ],
   "source": [
    "calculate_angle(shoulder, elbow, wrist)"
   ]
  },
  {
   "cell_type": "code",
   "execution_count": 12,
   "id": "b5b64047",
   "metadata": {},
   "outputs": [
    {
     "data": {
      "text/plain": [
       "(640, 601)"
      ]
     },
     "execution_count": 12,
     "metadata": {},
     "output_type": "execute_result"
    }
   ],
   "source": [
    "tuple(np.multiply(elbow, [640, 480]).astype(int))"
   ]
  },
  {
   "cell_type": "code",
   "execution_count": null,
   "id": "5dfbaad8",
   "metadata": {},
   "outputs": [],
   "source": []
  }
 ],
 "metadata": {
  "kernelspec": {
   "display_name": "yc",
   "language": "python",
   "name": "yc"
  },
  "language_info": {
   "codemirror_mode": {
    "name": "ipython",
    "version": 3
   },
   "file_extension": ".py",
   "mimetype": "text/x-python",
   "name": "python",
   "nbconvert_exporter": "python",
   "pygments_lexer": "ipython3",
   "version": "3.10.0"
  }
 },
 "nbformat": 4,
 "nbformat_minor": 5
}
